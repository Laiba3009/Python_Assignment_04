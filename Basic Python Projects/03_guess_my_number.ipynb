{
  "nbformat": 4,
  "nbformat_minor": 0,
  "metadata": {
    "colab": {
      "provenance": []
    },
    "kernelspec": {
      "name": "python3",
      "display_name": "Python 3"
    },
    "language_info": {
      "name": "python"
    }
  },
  "cells": [
    {
      "cell_type": "markdown",
      "source": [
        "\n",
        "#Problem Statement\n",
        "Guess My Number\n",
        "I am thinking of a number between 0 and 99... Enter a guess: 50 Your guess is too high\n",
        "Enter a new number: 25 Your guess is too low\n",
        "Enter a new number: 40 Your guess is too low\n",
        "Enter a new number: 45 Your guess is too low\n",
        "Enter a new number: 48 Congrats! The number was: 48"
      ],
      "metadata": {
        "id": "Tl5AjJ4qMSDY"
      }
    },
    {
      "cell_type": "code",
      "source": [
        "import random\n",
        "\n",
        "# Generate a random number between 0 and 99\n",
        "secret_number = random.randint(0, 99)\n",
        "\n",
        "print(\"I am thinking of a number between 0 and 99...\")\n",
        "\n",
        "while True:\n",
        "    # Get user input\n",
        "    guess = int(input(\"Enter a guess: \"))\n",
        "\n",
        "    if guess > secret_number:\n",
        "        print(\"Your guess is too high\")\n",
        "    elif guess < secret_number:\n",
        "        print(\"Your guess is too low\")\n",
        "    else:\n",
        "        print(f\"Congrats! The number was: {secret_number}\")\n",
        "        break  # Exit the loop when the correct number is guessed"
      ],
      "metadata": {
        "colab": {
          "base_uri": "https://localhost:8080/"
        },
        "id": "BuS0n9ivMiuG",
        "outputId": "1b3b3d07-b079-4968-fe2b-d97c92226910"
      },
      "execution_count": null,
      "outputs": [
        {
          "output_type": "stream",
          "name": "stdout",
          "text": [
            "I am thinking of a number between 0 and 99...\n",
            "Enter a guess: 59\n",
            "Your guess is too high\n",
            "Enter a guess: 40\n",
            "Your guess is too low\n",
            "Enter a guess: 50\n",
            "Your guess is too low\n",
            "Enter a guess: 55\n",
            "Your guess is too high\n",
            "Enter a guess: 53\n",
            "Congrats! The number was: 53\n"
          ]
        }
      ]
    }
  ]
}
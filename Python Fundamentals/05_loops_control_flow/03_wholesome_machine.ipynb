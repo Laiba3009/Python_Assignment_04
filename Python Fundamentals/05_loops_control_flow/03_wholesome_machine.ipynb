{
  "nbformat": 4,
  "nbformat_minor": 0,
  "metadata": {
    "colab": {
      "provenance": []
    },
    "kernelspec": {
      "name": "python3",
      "display_name": "Python 3"
    },
    "language_info": {
      "name": "python"
    }
  },
  "cells": [
    {
      "cell_type": "markdown",
      "source": [
        "\n",
        "# Problem Statement\n",
        "Write a program which prompts the user to type an affirmation of your choice (we'll use \"I am capable of doing anything I put my mind to.\") until they type it correctly. Sometimes, especially in the midst of such uncertain times, we just need to be reminded that we are resilient, capable, and strong; this little Python program may be able to help!\n",
        "\n",
        "Here's a sample run of the program (user input is in blue):\n",
        "\n",
        "Please type the following affirmation: I am capable of doing anything I put my mind to. Hmmm That was not the affirmation. Please type the following affirmation: I am capable of doing anything I put my mind to. I am capable of doing anything I put my mind to. That's right! :)\n",
        "\n",
        "Note that you can call input() with no prompt and it will still wait for a user to type something!"
      ],
      "metadata": {
        "id": "IqhWAQmUg9TX"
      }
    },
    {
      "cell_type": "code",
      "execution_count": 1,
      "metadata": {
        "colab": {
          "base_uri": "https://localhost:8080/"
        },
        "id": "BxIVlu9ad4Vz",
        "outputId": "e57d9b0c-8d2f-4837-9513-025056d36ebf"
      },
      "outputs": [
        {
          "output_type": "stream",
          "name": "stdout",
          "text": [
            "Please type the following affirmation: I am capable of doing anything I put my mind to.\n",
            "I am capable of doing anything I put my mind to.\n",
            "That's right! :)\n"
          ]
        }
      ],
      "source": [
        "affirmation = \"I am capable of doing anything I put my mind to.\"\n",
        "\n",
        "print(f\"Please type the following affirmation: {affirmation}\")\n",
        "\n",
        "while True:\n",
        "    user_input = input()\n",
        "\n",
        "    if user_input == affirmation:\n",
        "        print(\"That's right! :)\")\n",
        "        break\n",
        "    else:\n",
        "        print(\"Hmmm, that was not the affirmation. Please type the following affirmation:\")\n"
      ]
    }
  ]
}
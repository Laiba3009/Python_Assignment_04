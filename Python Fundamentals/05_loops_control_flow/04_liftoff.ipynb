{
  "nbformat": 4,
  "nbformat_minor": 0,
  "metadata": {
    "colab": {
      "provenance": []
    },
    "kernelspec": {
      "name": "python3",
      "display_name": "Python 3"
    },
    "language_info": {
      "name": "python"
    }
  },
  "cells": [
    {
      "cell_type": "markdown",
      "source": [
        "# Problem Statement\n",
        "Write a program that prints out the calls for a spaceship that is about to launch. Countdown from 10 to 1 and then output Liftoff!\n",
        "\n",
        "Here's a sample run of the program:\n",
        "\n",
        "10 9 8 7 6 5 4 3 2 1 Liftoff!\n",
        "\n",
        "There are many ways to solve this problem. One approach is to use a for loop, and to use the for loop variable i. Recall that i will keep track of how many times the for loop has completed executing its body. As an example this code:\n",
        "\n",
        "for i in range(10): print(i)\n",
        "\n",
        "Will print out the values 0, 1, 2, 3, 4, 5, 6, 7, 8, 9. The values printed in liftoff are 10 minus the number of times the for loop has completed.\n"
      ],
      "metadata": {
        "id": "Ci7SY-vmA0Mq"
      }
    },
    {
      "cell_type": "code",
      "source": [
        "for i in range(10, 0, -1):  # Start from 10, go down to 1\n",
        "    print(i, end=\" \")  # Print numbers on the same line with space\n",
        "print(\"Liftoff!\")  # Print Liftoff! at the end\n"
      ],
      "metadata": {
        "colab": {
          "base_uri": "https://localhost:8080/"
        },
        "id": "7O0_39toA4ld",
        "outputId": "6cbefc12-4eec-440e-a8e8-2c1d1ffc2a26"
      },
      "execution_count": 1,
      "outputs": [
        {
          "output_type": "stream",
          "name": "stdout",
          "text": [
            "10 9 8 7 6 5 4 3 2 1 Liftoff!\n"
          ]
        }
      ]
    }
  ]
}
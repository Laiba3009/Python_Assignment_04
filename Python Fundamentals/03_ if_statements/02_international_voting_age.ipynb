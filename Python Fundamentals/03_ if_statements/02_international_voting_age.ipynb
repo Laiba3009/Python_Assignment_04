{
  "nbformat": 4,
  "nbformat_minor": 0,
  "metadata": {
    "colab": {
      "provenance": []
    },
    "kernelspec": {
      "name": "python3",
      "display_name": "Python 3"
    },
    "language_info": {
      "name": "python"
    }
  },
  "cells": [
    {
      "cell_type": "markdown",
      "source": [
        "# problem Statement\n",
        "Write a program which asks a user for their age and lets them know if they can or can't vote in the following three fictional countries.\n",
        "\n",
        "Around the world, different countries have different voting ages. In the fictional countries of Peturksbouipo, Stanlau, and Mayengua, the voting ages are very different:\n",
        "\n",
        "the voting age in Peturksbouipo is 16 (in real life, this is the voting age in, for example, Scotland, Ethiopia, and Austria)\n",
        "\n",
        "the voting age in Stanlau is 25 (in real life this is the voting age in the United Arab Emirates)\n",
        "\n",
        "the voting age in Mayengua is 48 (in real life, as far as we can tell, this isn't the voting age anywhere)\n",
        "\n",
        "Your code should prompt the for their age and print whether or not they can vote in Peturksbouipo, Stanlau, or Mayengua.\n",
        "\n",
        "Here's a sample run of the program (user input is in blue):\n",
        "\n",
        "How old are you? 20 You can vote in Peturksbouipo where the voting age is 16. You cannot vote in Stanlau where the voting age is 25. You cannot vote in Mayengua where the voting age is 48"
      ],
      "metadata": {
        "id": "iLTtikhsvDyh"
      }
    },
    {
      "cell_type": "code",
      "source": [
        "def check_voting_eligibility(age):\n",
        "    if age >= 16:\n",
        "        print(\"You can vote in Peturksbouipo where the voting age is 16.\")\n",
        "    else:\n",
        "        print(\"You cannot vote in Peturksbouipo where the voting age is 16.\")\n",
        "\n",
        "    if age >= 25:\n",
        "        print(\"You can vote in Stanlau where the voting age is 25.\")\n",
        "    else:\n",
        "        print(\"You cannot vote in Stanlau where the voting age is 25.\")\n",
        "\n",
        "    if age >= 48:\n",
        "        print(\"You can vote in Mayengua where the voting age is 48.\")\n",
        "    else:\n",
        "        print(\"You cannot vote in Mayengua where the voting age is 48.\")\n",
        "\n",
        "def main():\n",
        "    age = int(input(\"How old are you? \"))  # User se age lein aur integer me convert karein\n",
        "    check_voting_eligibility(age)  # Function call karein\n",
        "\n",
        "if __name__ == \"__main__\":\n",
        "    main()\n"
      ],
      "metadata": {
        "colab": {
          "base_uri": "https://localhost:8080/"
        },
        "id": "xc4-e2JJvJ1_",
        "outputId": "c1d9e383-972a-4ea4-8445-2448ab435248"
      },
      "execution_count": 1,
      "outputs": [
        {
          "output_type": "stream",
          "name": "stdout",
          "text": [
            "How old are you? 35\n",
            "You can vote in Peturksbouipo where the voting age is 16.\n",
            "You can vote in Stanlau where the voting age is 25.\n",
            "You cannot vote in Mayengua where the voting age is 48.\n"
          ]
        }
      ]
    }
  ]
}
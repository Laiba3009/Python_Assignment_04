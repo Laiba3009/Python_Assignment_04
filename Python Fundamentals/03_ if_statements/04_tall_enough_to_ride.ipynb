{
  "nbformat": 4,
  "nbformat_minor": 0,
  "metadata": {
    "colab": {
      "provenance": []
    },
    "kernelspec": {
      "name": "python3",
      "display_name": "Python 3"
    },
    "language_info": {
      "name": "python"
    }
  },
  "cells": [
    {
      "cell_type": "markdown",
      "source": [
        "# Problem Statement\n",
        "Write a program which asks the user how tall they are and prints whether or not they're taller than a pre-specified minimum height.\n",
        "\n",
        "In amusement parks (ah, the good old pre-pandemic days...), rollercoasters frequently have minimum height requirements for safety reasons. Assume for now that the minimum height is 50 of whatever height unit you'd like\n",
        "\n",
        "Here's two sample runs (user input is in bold italics):\n",
        "\n",
        "How tall are you? 100\n",
        "\n",
        "You're tall enough to ride!\n",
        "\n",
        "How tall are you? 10\n",
        "\n",
        "You're not tall enough to ride, but maybe next year!\n",
        "\n",
        "(For an extra challenge, write code which will repeatedly ask a user how tall they are and tell them whether or not they're tall enough to ride, until the user doesn't enter a height at all, in which case the program stops. Curious about how to do this? See the function tall_enough_extension() in the solution code!)\n"
      ],
      "metadata": {
        "id": "tVPQBtubxxnH"
      }
    },
    {
      "cell_type": "code",
      "execution_count": 1,
      "metadata": {
        "colab": {
          "base_uri": "https://localhost:8080/"
        },
        "id": "RzocTgZLxsE6",
        "outputId": "86a22dcb-725e-464b-dc0a-2acfab92be36"
      },
      "outputs": [
        {
          "output_type": "stream",
          "name": "stdout",
          "text": [
            "How tall are you? 5\n",
            "You're not tall enough to ride, but maybe next year!\n",
            "How tall are you? 8\n",
            "You're not tall enough to ride, but maybe next year!\n",
            "How tall are you? 51\n",
            "You're tall enough to ride!\n",
            "How tall are you? \n",
            "Exiting program...\n"
          ]
        }
      ],
      "source": [
        "def tall_enough_extension():\n",
        "    while True:\n",
        "        height = input(\"How tall are you? \")  # User input lein\n",
        "        if height == \"\":  # Agar user ne kuch bhi enter nahi kiya, exit ho jao\n",
        "            print(\"Exiting program...\")\n",
        "            break\n",
        "\n",
        "        height = int(height)  # String ko integer me convert karein\n",
        "\n",
        "        if height >= 50:\n",
        "            print(\"You're tall enough to ride!\")\n",
        "        else:\n",
        "            print(\"You're not tall enough to ride, but maybe next year!\")\n",
        "\n",
        "tall_enough_extension()\n"
      ]
    }
  ]
}
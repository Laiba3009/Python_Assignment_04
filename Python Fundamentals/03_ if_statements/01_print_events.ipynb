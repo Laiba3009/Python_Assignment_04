{
  "nbformat": 4,
  "nbformat_minor": 0,
  "metadata": {
    "colab": {
      "provenance": []
    },
    "kernelspec": {
      "name": "python3",
      "display_name": "Python 3"
    },
    "language_info": {
      "name": "python"
    }
  },
  "cells": [
    {
      "cell_type": "markdown",
      "source": [
        "# Problem Statement\n",
        "Write a program that prints the first 20 even numbers. There are several correct approaches, but they all use a loop of some sort. Do no write twenty print statements\n",
        "\n",
        "The first even number is 0:\n",
        "\n",
        "0 2 4 6 8 10 12 14 16 18 20 22 24 26 28 30 32 34 36 38"
      ],
      "metadata": {
        "id": "PxKsQpfBtwL9"
      }
    },
    {
      "cell_type": "code",
      "execution_count": 1,
      "metadata": {
        "colab": {
          "base_uri": "https://localhost:8080/"
        },
        "id": "zXtGGeWTtuor",
        "outputId": "9121c241-7ce6-459c-f791-fdd76adc1962"
      },
      "outputs": [
        {
          "output_type": "stream",
          "name": "stdout",
          "text": [
            "Using for loop:\n",
            "0 2 4 6 8 10 12 14 16 18 20 22 24 26 28 30 32 34 36 38 \n",
            "\n",
            "Using while loop:\n",
            "0 2 4 6 8 10 12 14 16 18 20 22 24 26 28 30 32 34 36 38 "
          ]
        }
      ],
      "source": [
        "# Solution using a for loop\n",
        "print(\"Using for loop:\")\n",
        "for i in range(20):\n",
        "    print(i * 2, end=\" \")\n",
        "\n",
        "print(\"\\n\")  # New line for better readability\n",
        "\n",
        "# Solution using a while loop\n",
        "print(\"Using while loop:\")\n",
        "i = 0\n",
        "count = 0\n",
        "while count < 20:\n",
        "    print(i, end=\" \")\n",
        "    i += 2\n",
        "    count += 1\n"
      ]
    }
  ]
}
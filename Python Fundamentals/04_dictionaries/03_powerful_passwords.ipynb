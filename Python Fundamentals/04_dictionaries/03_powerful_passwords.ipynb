{
  "nbformat": 4,
  "nbformat_minor": 0,
  "metadata": {
    "colab": {
      "provenance": []
    },
    "kernelspec": {
      "name": "python3",
      "display_name": "Python 3"
    },
    "language_info": {
      "name": "python"
    }
  },
  "cells": [
    {
      "cell_type": "markdown",
      "source": [
        "# Problem Statement\n",
        "You want to be safe online and use different passwords for different websites. However, you are forgetful at times and want to make a program that can match which password belongs to which website without storing the actual password!\n",
        "\n",
        "This can be done via something called hashing. Hashing is when we take something and convert it into a different, unique identifier. This is done using a hash function. Luckily, there are several resources that can help us with this.\n",
        "\n",
        "For example, using a hash function called SHA256(...) something as simple as\n",
        "\n",
        "hello\n",
        "\n",
        "can be hashed into a much more complex\n",
        "\n",
        "2cf24dba5fb0a30e26e83b2ac5b9e29e1b161e5c1fa7425e73043362938b9824\n",
        "\n",
        "Fill out the login(...) function for a website that hashes their passwords. Login should return True if an email's stored password hash in stored_logins is the same as the hash of password_to_check.\n",
        "\n",
        "(Hint. You will need to use the provided hash_password(...) function. You don't necessarily need to know how it works, just know that hash_password(...) returns the hash for the password!)"
      ],
      "metadata": {
        "id": "uLAF1mix7Ykn"
      }
    },
    {
      "cell_type": "code",
      "execution_count": 2,
      "metadata": {
        "colab": {
          "base_uri": "https://localhost:8080/"
        },
        "id": "OQAMUDjv7SU8",
        "outputId": "908d76b9-fd87-4172-988b-6d5a891230f6"
      },
      "outputs": [
        {
          "output_type": "stream",
          "name": "stdout",
          "text": [
            "Enter your email: user@example.com\n",
            "Enter your password: mypassword123\n",
            "✅ Login successful!\n"
          ]
        }
      ],
      "source": [
        "import hashlib\n",
        "\n",
        "def hash_password(password):\n",
        "    \"\"\"SHA256 hash function to convert password into a secure hash\"\"\"\n",
        "    return hashlib.sha256(password.encode()).hexdigest()\n",
        "\n",
        "def login(email, password_to_check, stored_logins):\n",
        "    \"\"\"\n",
        "    Checks if the given password (after hashing) matches the stored hash for the email.\n",
        "\n",
        "    Parameters:\n",
        "    - email: User's email ID\n",
        "    - password_to_check: Password entered for login\n",
        "    - stored_logins: Dictionary containing {email: hashed_password}\n",
        "\n",
        "    Returns:\n",
        "    - True if password is correct, else False\n",
        "    \"\"\"\n",
        "    # Hash the entered password\n",
        "    hashed_attempt = hash_password(password_to_check)\n",
        "\n",
        "    # Check if email exists in stored_logins and matches the hashed password\n",
        "    return stored_logins.get(email) == hashed_attempt\n",
        "\n",
        "# Example stored user data (email: hashed password)\n",
        "stored_logins = {\n",
        "    \"user@example.com\": hash_password(\"mypassword123\"),\n",
        "    \"test@website.com\": hash_password(\"securepass\"),\n",
        "}\n",
        "\n",
        "# Example login attempts\n",
        "email = input(\"Enter your email: \")\n",
        "password = input(\"Enter your password: \")\n",
        "\n",
        "if login(email, password, stored_logins):\n",
        "    print(\"✅ Login successful!\")\n",
        "else:\n",
        "    print(\"❌ Invalid email or password.\")\n"
      ]
    }
  ]
}
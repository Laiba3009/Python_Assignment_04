{
  "nbformat": 4,
  "nbformat_minor": 0,
  "metadata": {
    "colab": {
      "provenance": []
    },
    "kernelspec": {
      "name": "python3",
      "display_name": "Python 3"
    },
    "language_info": {
      "name": "python"
    }
  },
  "cells": [
    {
      "cell_type": "markdown",
      "source": [
        "# Problem Statement\n",
        "In this program we show an example of using dictionaries to keep track of information in a phonebook"
      ],
      "metadata": {
        "id": "SuACwRY72OIy"
      }
    },
    {
      "cell_type": "code",
      "source": [
        "def phonebook():\n",
        "    contacts = {}  # Dictionary to store names and numbers\n",
        "\n",
        "    while True:\n",
        "        print(\"\\n1. Add Contact\")\n",
        "        print(\"2. Search Contact\")\n",
        "        print(\"3. View All Contacts\")\n",
        "        print(\"4. Exit\")\n",
        "\n",
        "        choice = input(\"Enter your choice: \")\n",
        "\n",
        "        if choice == \"1\":  # Add a contact\n",
        "            name = input(\"Enter contact name: \")\n",
        "            number = input(\"Enter phone number: \")\n",
        "            contacts[name] = number  # Store in dictionary\n",
        "            print(f\"Contact {name} added!\")\n",
        "\n",
        "        elif choice == \"2\":  # Search for a contact\n",
        "            name = input(\"Enter contact name to search: \")\n",
        "            if name in contacts:\n",
        "                print(f\"{name}'s number: {contacts[name]}\")\n",
        "            else:\n",
        "                print(\"Contact not found!\")\n",
        "\n",
        "        elif choice == \"3\":  # View all contacts\n",
        "            if contacts:\n",
        "                print(\"\\nPhonebook Contacts:\")\n",
        "                for name, number in contacts.items():\n",
        "                    print(f\"{name}: {number}\")\n",
        "            else:\n",
        "                print(\"Phonebook is empty!\")\n",
        "\n",
        "        elif choice == \"4\":  # Exit the program\n",
        "            print(\"Exiting phonebook...\")\n",
        "            break\n",
        "\n",
        "        else:\n",
        "            print(\"Invalid choice, please try again!\")\n",
        "\n",
        "# Call the function\n",
        "phonebook()\n"
      ],
      "metadata": {
        "colab": {
          "base_uri": "https://localhost:8080/"
        },
        "id": "6R2WBsbT29jf",
        "outputId": "7ff684ef-9dce-435f-cb8a-822a9c111daa"
      },
      "execution_count": 2,
      "outputs": [
        {
          "output_type": "stream",
          "name": "stdout",
          "text": [
            "\n",
            "1. Add Contact\n",
            "2. Search Contact\n",
            "3. View All Contacts\n",
            "4. Exit\n",
            "Enter your choice: 1\n",
            "Enter contact name: jaweed\n",
            "Enter phone number: 0352672893458\n",
            "Contact jaweed added!\n",
            "\n",
            "1. Add Contact\n",
            "2. Search Contact\n",
            "3. View All Contacts\n",
            "4. Exit\n",
            "Enter your choice: 1\n",
            "Enter contact name: maryam\n",
            "Enter phone number: 033i48585678\n",
            "Contact maryam added!\n",
            "\n",
            "1. Add Contact\n",
            "2. Search Contact\n",
            "3. View All Contacts\n",
            "4. Exit\n",
            "Enter your choice: 1\n",
            "Enter contact name: laiba\n",
            "Enter phone number: 03044567890\n",
            "Contact laiba added!\n",
            "\n",
            "1. Add Contact\n",
            "2. Search Contact\n",
            "3. View All Contacts\n",
            "4. Exit\n",
            "Enter your choice: 2\n",
            "Enter contact name to search: maryam\n",
            "maryam's number: 033i48585678\n",
            "\n",
            "1. Add Contact\n",
            "2. Search Contact\n",
            "3. View All Contacts\n",
            "4. Exit\n",
            "Enter your choice: 3\n",
            "\n",
            "Phonebook Contacts:\n",
            "jaweed: 0352672893458\n",
            "maryam: 033i48585678\n",
            "laiba: 03044567890\n",
            "\n",
            "1. Add Contact\n",
            "2. Search Contact\n",
            "3. View All Contacts\n",
            "4. Exit\n",
            "Enter your choice: 4\n",
            "Exiting phonebook...\n"
          ]
        }
      ]
    }
  ]
}
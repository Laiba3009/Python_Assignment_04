{
  "nbformat": 4,
  "nbformat_minor": 0,
  "metadata": {
    "colab": {
      "provenance": []
    },
    "kernelspec": {
      "name": "python3",
      "display_name": "Python 3"
    },
    "language_info": {
      "name": "python"
    }
  },
  "cells": [
    {
      "cell_type": "markdown",
      "source": [
        "# Problem Statement\n",
        "This program counts the number of times each number appears in a list. It uses a dictionary to keep track of the information.\n",
        "\n",
        "An example run of the program looks like this (user input is in blue):\n",
        "\n",
        "Enter a number: 3 Enter a number: 4 Enter a number: 3 Enter a number: 6 Enter a number: 4 Enter a number: 3 Enter a number: 12 Enter a number: 3 appears 3 times. 4 appears 2 times. 6 appears 1 times. 12 appears 1 times."
      ],
      "metadata": {
        "id": "3BbbdP6x0TwC"
      }
    },
    {
      "cell_type": "code",
      "execution_count": 2,
      "metadata": {
        "colab": {
          "base_uri": "https://localhost:8080/"
        },
        "id": "eDdMjzUS0SB7",
        "outputId": "86837955-76cd-433f-abef-0fb5225927d0"
      },
      "outputs": [
        {
          "output_type": "stream",
          "name": "stdout",
          "text": [
            "Enter a number (or press Enter to stop): 2\n",
            "Enter a number (or press Enter to stop): 4\n",
            "Enter a number (or press Enter to stop): 5\n",
            "Enter a number (or press Enter to stop): 2\n",
            "Enter a number (or press Enter to stop): 5\n",
            "Enter a number (or press Enter to stop): \n",
            "2 appears 2 times.\n",
            "4 appears 1 times.\n",
            "5 appears 2 times.\n"
          ]
        }
      ],
      "source": [
        "def count_numbers():\n",
        "    counts = {}  # Dictionary to store number counts\n",
        "\n",
        "    while True:\n",
        "        num = input(\"Enter a number (or press Enter to stop): \")  # User input lein\n",
        "        if num == \"\":  # Agar user enter kare bina koi number diye, program stop ho jayega\n",
        "            break\n",
        "\n",
        "        num = int(num)  # String ko integer me convert karein\n",
        "\n",
        "        if num in counts:\n",
        "            counts[num] += 1  # Agar number pehle se hai, uska count badhayein\n",
        "        else:\n",
        "            counts[num] = 1  # Naya number dictionary me add karein\n",
        "\n",
        "    # Dictionary ke andar jo counts hain, unko print karein\n",
        "    for number, count in counts.items():\n",
        "        print(f\"{number} appears {count} times.\")\n",
        "\n",
        "# Function call karein\n",
        "count_numbers()\n"
      ]
    }
  ]
}
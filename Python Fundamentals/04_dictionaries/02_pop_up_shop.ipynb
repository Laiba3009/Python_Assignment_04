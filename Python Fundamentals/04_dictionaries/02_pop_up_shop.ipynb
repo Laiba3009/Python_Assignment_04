{
  "nbformat": 4,
  "nbformat_minor": 0,
  "metadata": {
    "colab": {
      "provenance": []
    },
    "kernelspec": {
      "name": "python3",
      "display_name": "Python 3"
    },
    "language_info": {
      "name": "python"
    }
  },
  "cells": [
    {
      "cell_type": "markdown",
      "source": [
        "# Problem Statement\n",
        "There's a small fruit shop nearby your house that you like to buy from. Since you buy several fruit at a time, you want to keep track of how much the fruit will cost before you go. Luckily you wrote down what fruits were available and how much one of each fruit costs.\n",
        "\n",
        "Write a program that loops through a dictionary of fruits, prompting the user to see how many of each fruit they want to buy, and then prints out the total combined cost of all of the fruits.\n",
        "\n",
        "Here is an example run of the program (user input is in bold italics):\n",
        "\n",
        "How many (apple) do you want?: 2\n",
        "\n",
        "How many (durian) do you want?: 0\n",
        "\n",
        "How many (jackfruit) do you want?: 1\n",
        "\n",
        "How many (kiwi) do you want?: 0\n",
        "\n",
        "How many (rambutan) do you want?: 1\n",
        "\n",
        "How many (mango) do you want?: 3\n",
        "\n",
        "Your total is $99.5"
      ],
      "metadata": {
        "id": "umAtrYAb6W5S"
      }
    },
    {
      "cell_type": "code",
      "execution_count": 1,
      "metadata": {
        "colab": {
          "base_uri": "https://localhost:8080/"
        },
        "id": "XMvjRoT56RjW",
        "outputId": "9770576b-c9dd-474f-f469-b80c3223a558"
      },
      "outputs": [
        {
          "output_type": "stream",
          "name": "stdout",
          "text": [
            "How many (apple) do you want?: 4\n",
            "How many (durian) do you want?: 2\n",
            "How many (jackfruit) do you want?: 6\n",
            "How many (kiwi) do you want?: 8\n",
            "How many (rambutan) do you want?: 4\n",
            "How many (mango) do you want?: 3\n",
            "\n",
            "Your total is $245.00\n"
          ]
        }
      ],
      "source": [
        "def fruit_shop():\n",
        "    # Fruit price dictionary\n",
        "    fruit_prices = {\n",
        "        \"apple\": 5.0,\n",
        "        \"durian\": 15.0,\n",
        "        \"jackfruit\": 12.5,\n",
        "        \"kiwi\": 8.0,\n",
        "        \"rambutan\": 6.5,\n",
        "        \"mango\": 10.0\n",
        "    }\n",
        "\n",
        "    total_cost = 0  # Initialize total cost\n",
        "\n",
        "    # Loop through each fruit\n",
        "    for fruit, price in fruit_prices.items():\n",
        "        quantity = int(input(f\"How many ({fruit}) do you want?: \"))  # User input\n",
        "        total_cost += quantity * price  # Multiply price with quantity and add to total\n",
        "\n",
        "    # Print total price\n",
        "    print(f\"\\nYour total is ${total_cost:.2f}\")\n",
        "\n",
        "# Call the function\n",
        "fruit_shop()\n"
      ]
    }
  ]
}
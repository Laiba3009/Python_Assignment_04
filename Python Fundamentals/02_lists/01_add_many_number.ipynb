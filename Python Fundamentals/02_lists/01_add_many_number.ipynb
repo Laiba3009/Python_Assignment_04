{
  "nbformat": 4,
  "nbformat_minor": 0,
  "metadata": {
    "colab": {
      "provenance": []
    },
    "kernelspec": {
      "name": "python3",
      "display_name": "Python 3"
    },
    "language_info": {
      "name": "python"
    }
  },
  "cells": [
    {
      "cell_type": "markdown",
      "source": [
        "# New Section\n",
        "Problem Statement\n",
        "Write a function that takes a list of numbers and returns the sum of those numbers"
      ],
      "metadata": {
        "id": "njqPsrFxE6_g"
      }
    },
    {
      "cell_type": "code",
      "source": [
        "def sum_of_numbers(numbers):\n",
        "    return sum(numbers)  # Use the built-in sum() function to add all numbers\n",
        "\n",
        "# Example usage\n",
        "numbers_list = [1, 2, 3, 4, 5]\n",
        "result = sum_of_numbers(numbers_list)\n",
        "print(f\"The sum of the numbers is: {result}\")\n"
      ],
      "metadata": {
        "colab": {
          "base_uri": "https://localhost:8080/"
        },
        "id": "QuCW25_hE9-O",
        "outputId": "c73e5efe-a74d-44b6-f4b0-670e87f8e37f"
      },
      "execution_count": 1,
      "outputs": [
        {
          "output_type": "stream",
          "name": "stdout",
          "text": [
            "The sum of the numbers is: 15\n"
          ]
        }
      ]
    }
  ]
}
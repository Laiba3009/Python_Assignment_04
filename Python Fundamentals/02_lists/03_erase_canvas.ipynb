{
  "nbformat": 4,
  "nbformat_minor": 0,
  "metadata": {
    "colab": {
      "provenance": []
    },
    "kernelspec": {
      "name": "python3",
      "display_name": "Python 3"
    },
    "language_info": {
      "name": "python"
    }
  },
  "cells": [
    {
      "cell_type": "markdown",
      "source": [
        "# Problem Statement\n",
        "Implement an 'eraser' on a canvas.\n",
        "\n",
        "The canvas consists of a grid of blue 'cells' which are drawn as rectangles on the screen. We then create an eraser rectangle which, when dragged around the canvas, sets all of the rectangles it is in contact with to white"
      ],
      "metadata": {
        "id": "V-1-CZTaPt33"
      }
    },
    {
      "cell_type": "code",
      "source": [
        "import matplotlib.pyplot as plt\n",
        "import numpy as np\n",
        "\n",
        "# Canvas configuration\n",
        "ROWS, COLS = 10, 10  # Grid size\n",
        "CELL_SIZE = 50  # Each cell size in pixels\n",
        "\n",
        "# Create a grid with blue cells\n",
        "canvas = np.ones((ROWS, COLS, 3))  # White background\n",
        "canvas[:, :] = [0, 0, 1]  # Fill with blue color (RGB)\n",
        "\n",
        "fig, ax = plt.subplots()\n",
        "ax.set_xticks(np.arange(-0.5, COLS, 1), minor=True)\n",
        "ax.set_yticks(np.arange(-0.5, ROWS, 1), minor=True)\n",
        "ax.grid(which=\"minor\", color=\"black\", linestyle='-', linewidth=2)\n",
        "ax.tick_params(which=\"both\", size=0)  # Hide tick labels\n",
        "\n",
        "# Display initial grid\n",
        "image = ax.imshow(canvas)\n",
        "\n",
        "def erase(event):\n",
        "    \"\"\"Erase the clicked cell by turning it white.\"\"\"\n",
        "    if event.xdata is not None and event.ydata is not None:\n",
        "        col, row = int(event.xdata), int(event.ydata)\n",
        "        if 0 <= row < ROWS and 0 <= col < COLS:\n",
        "            canvas[row, col] = [1, 1, 1]  # Change color to white\n",
        "            image.set_data(canvas)\n",
        "            plt.draw()  # Update plot\n",
        "\n",
        "# Connect mouse click event\n",
        "fig.canvas.mpl_connect('button_press_event', erase)\n",
        "\n",
        "plt.show()\n"
      ],
      "metadata": {
        "colab": {
          "base_uri": "https://localhost:8080/",
          "height": 425
        },
        "id": "ddyq32GcUCho",
        "outputId": "6e0ddf2b-c060-4147-b188-c45312323009"
      },
      "execution_count": 7,
      "outputs": [
        {
          "output_type": "display_data",
          "data": {
            "text/plain": [
              "<Figure size 640x480 with 1 Axes>"
            ],
            "image/png": "[encoded data removed]"
          },
          "metadata": {}
        }
      ]
    }
  ]
}
{
  "nbformat": 4,
  "nbformat_minor": 0,
  "metadata": {
    "colab": {
      "provenance": []
    },
    "kernelspec": {
      "name": "python3",
      "display_name": "Python 3"
    },
    "language_info": {
      "name": "python"
    }
  },
  "cells": [
    {
      "cell_type": "markdown",
      "source": [
        "# Problem Statement\n",
        "Fill out the function shorten(lst) which removes elements from the end of lst, which is a list, and prints each item it removes until lst is MAX_LENGTH items long. If lst is already shorter than MAX_LENGTH you should leave it unchanged. We've written a main() function for you which gets a list and passes it into your function once you run the program. For the autograder to pass you will need MAX_LENGTH to be 3, but feel free to change it around to test your program."
      ],
      "metadata": {
        "id": "nRzct3QxpVTQ"
      }
    },
    {
      "cell_type": "code",
      "source": [
        "MAX_LENGTH = 3  # You can change this for testing\n",
        "\n",
        "def shorten(lst):\n",
        "    while len(lst) > MAX_LENGTH:  # Keep removing elements if list is too long\n",
        "        removed_item = lst.pop()  # Remove the last item\n",
        "        print(removed_item)  # Print the removed item\n",
        "\n",
        "def main():\n",
        "    lst = input(\"Enter a list of values separated by spaces: \").split()\n",
        "    shorten(lst)\n",
        "    print(\"Final list:\", lst)\n",
        "\n",
        "if __name__ == \"__main__\":\n",
        "    main()\n",
        "\n"
      ],
      "metadata": {
        "colab": {
          "base_uri": "https://localhost:8080/"
        },
        "id": "oMGq64kQpfsV",
        "outputId": "abd2c774-afce-4638-f5fb-1ace112604fc"
      },
      "execution_count": 2,
      "outputs": [
        {
          "output_type": "stream",
          "name": "stdout",
          "text": [
            "Enter a list of values separated by spaces: 1 2 3 4 5\n",
            "5\n",
            "4\n",
            "Final list: ['1', '2', '3']\n"
          ]
        }
      ]
    }
  ]
}
{
  "nbformat": 4,
  "nbformat_minor": 0,
  "metadata": {
    "colab": {
      "provenance": [],
      "gpuType": "T4"
    },
    "kernelspec": {
      "name": "python3",
      "display_name": "Python 3"
    },
    "language_info": {
      "name": "python"
    },
    "accelerator": "GPU"
  },
  "cells": [
    {
      "cell_type": "markdown",
      "source": [
        "\n",
        "# Problem Statement\n",
        "Fill out the function get_first_element(lst) which takes in a list lst as a parameter and prints the first element in the list. The list is guaranteed to be non-empty. We've written some code for you which prompts the user to input the list one element at a time"
      ],
      "metadata": {
        "id": "OvQgVf-dVwo2"
      }
    },
    {
      "cell_type": "code",
      "source": [
        "def get_first_element(lst):\n",
        "    \"\"\"Prints the first element of the given list.\"\"\"\n",
        "    print(\"First element:\", lst[0])  # Access the first element using index 0\n",
        "\n",
        "# Prompt the user to enter list elements\n",
        "n = int(input(\"Enter the number of elements in the list: \"))  # Get list size\n",
        "user_list = []  # Initialize an empty list\n",
        "\n",
        "# Get elements from the user\n",
        "for i in range(n):\n",
        "    element = input(f\"Enter element {i+1}: \")  # Get input for each element\n",
        "    user_list.append(element)  # Add element to the list\n",
        "\n",
        "# Print the list (for reference)\n",
        "print(\"Your list:\", user_list)\n",
        "\n",
        "# Call the function to print the first element\n",
        "get_first_element(user_list)\n"
      ],
      "metadata": {
        "colab": {
          "base_uri": "https://localhost:8080/"
        },
        "id": "4ZgwNbldWlCC",
        "outputId": "71eb18f6-d48e-4267-ebc5-d211f50d2ff7"
      },
      "execution_count": 2,
      "outputs": [
        {
          "output_type": "stream",
          "name": "stdout",
          "text": [
            "Enter the number of elements in the list: 4\n",
            "Enter element 1: apple\n",
            "Enter element 2: mango\n",
            "Enter element 3: melon\n",
            "Enter element 4: banana\n",
            "Your list: ['apple', 'mango', 'melon', 'banana']\n",
            "First element: apple\n"
          ]
        }
      ]
    }
  ]
}
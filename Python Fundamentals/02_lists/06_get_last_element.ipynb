{
  "nbformat": 4,
  "nbformat_minor": 0,
  "metadata": {
    "colab": {
      "provenance": []
    },
    "kernelspec": {
      "name": "python3",
      "display_name": "Python 3"
    },
    "language_info": {
      "name": "python"
    }
  },
  "cells": [
    {
      "cell_type": "markdown",
      "source": [
        "\n",
        "# Problem Statement\n",
        "Fill out the function get_last_element(lst) which takes in a list lst as a parameter and prints the last element in the list. The list is guaranteed to be non-empty, but there are no guarantees on its length."
      ],
      "metadata": {
        "id": "PaYLzIWXXI28"
      }
    },
    {
      "cell_type": "code",
      "execution_count": 1,
      "metadata": {
        "id": "NKZHxeN0XDPg",
        "colab": {
          "base_uri": "https://localhost:8080/"
        },
        "outputId": "7f7d3564-5995-4b28-cdd4-8d895529c7e9"
      },
      "outputs": [
        {
          "output_type": "stream",
          "name": "stdout",
          "text": [
            "Enter the number of elements in the list: 3\n",
            "Enter element 1: cat\n",
            "Enter element 2: dog\n",
            "Enter element 3: tiger\n",
            "Your list: ['cat', 'dog', 'tiger']\n",
            "Last element: tiger\n"
          ]
        }
      ],
      "source": [
        "\n",
        "\n",
        "\n",
        "\n",
        "def get_last_element(lst):\n",
        "    \"\"\"Prints the last element of the given list.\"\"\"\n",
        "    print(\"Last element:\", lst[-1])  # Access the last element using index -1\n",
        "\n",
        "# Prompt the user to enter list elements\n",
        "n = int(input(\"Enter the number of elements in the list: \"))  # Get list size\n",
        "user_list = []  # Initialize an empty list\n",
        "\n",
        "# Get elements from the user\n",
        "for i in range(n):\n",
        "    element = input(f\"Enter element {i+1}: \")  # Get input for each element\n",
        "    user_list.append(element)  # Add element to the list\n",
        "\n",
        "# Print the list (for reference)\n",
        "print(\"Your list:\", user_list)\n",
        "\n",
        "# Call the function to print the last element\n",
        "get_last_element(user_list)\n"
      ]
    }
  ]
}
{
  "nbformat": 4,
  "nbformat_minor": 0,
  "metadata": {
    "colab": {
      "provenance": []
    },
    "kernelspec": {
      "name": "python3",
      "display_name": "Python 3"
    },
    "language_info": {
      "name": "python"
    }
  },
  "cells": [
    {
      "cell_type": "markdown",
      "source": [
        "\n",
        "# Problem Statement\n",
        "Simulate rolling two dice, and prints results of each roll as well as the total"
      ],
      "metadata": {
        "id": "wQ38e_yCBcMb"
      }
    },
    {
      "cell_type": "code",
      "source": [
        "import random  # Import random module to generate dice rolls\n",
        "\n",
        "def roll_dice():\n",
        "    return random.randint(1, 6)  # Simulate rolling a six-sided die\n",
        "\n",
        "def main():\n",
        "    # Roll two dice\n",
        "    die1 = roll_dice()\n",
        "    die2 = roll_dice()\n",
        "\n",
        "    # Calculate the total\n",
        "    total = die1 + die2\n",
        "\n",
        "    # Print the results\n",
        "    print(f\"Die 1: {die1}\")\n",
        "    print(f\"Die 2: {die2}\")\n",
        "    print(f\"Total: {total}\")\n",
        "\n",
        "if __name__ == '__main__':\n",
        "    main()\n"
      ],
      "metadata": {
        "colab": {
          "base_uri": "https://localhost:8080/"
        },
        "id": "3XTrt2WEBfkM",
        "outputId": "6f3820b6-dc30-4298-9296-221dddce691f"
      },
      "execution_count": 1,
      "outputs": [
        {
          "output_type": "stream",
          "name": "stdout",
          "text": [
            "Die 1: 2\n",
            "Die 2: 2\n",
            "Total: 4\n"
          ]
        }
      ]
    }
  ]
}
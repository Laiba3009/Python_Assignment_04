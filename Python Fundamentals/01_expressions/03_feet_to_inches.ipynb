{
  "nbformat": 4,
  "nbformat_minor": 0,
  "metadata": {
    "colab": {
      "provenance": []
    },
    "kernelspec": {
      "name": "python3",
      "display_name": "Python 3"
    },
    "language_info": {
      "name": "python"
    }
  },
  "cells": [
    {
      "cell_type": "markdown",
      "source": [],
      "metadata": {
        "id": "sqiR_CYXeErK"
      }
    },
    {
      "cell_type": "markdown",
      "source": [
        "# Problem Statement\n",
        "Converts feet to inches. Feet is an American unit of measurement. There are 12 inches per foot. Foot is the singular, and feet is the plural.\n",
        "\n"
      ],
      "metadata": {
        "id": "ye7mBJ0JeGYl"
      }
    },
    {
      "cell_type": "code",
      "source": [
        "def main():\n",
        "    # Prompt the user for feet\n",
        "    feet = float(input(\"Enter the number of feet: \"))\n",
        "\n",
        "    # Convert feet to inches (1 foot = 12 inches)\n",
        "    inches = feet * 12\n",
        "\n",
        "    # Print the result\n",
        "    print(f\"{feet} feet is {inches} inches.\")\n",
        "\n",
        "if __name__ == '__main__':\n",
        "    main()\n"
      ],
      "metadata": {
        "colab": {
          "base_uri": "https://localhost:8080/"
        },
        "id": "cgXi4bFpeJdW",
        "outputId": "151966f2-2609-498b-854f-78cc4f3c3d79"
      },
      "execution_count": 2,
      "outputs": [
        {
          "output_type": "stream",
          "name": "stdout",
          "text": [
            "Enter the number of feet: 2\n",
            "2.0 feet is 24.0 inches.\n"
          ]
        }
      ]
    }
  ]
}
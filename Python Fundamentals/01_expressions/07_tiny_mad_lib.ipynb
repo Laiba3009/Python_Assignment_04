{
  "nbformat": 4,
  "nbformat_minor": 0,
  "metadata": {
    "colab": {
      "provenance": []
    },
    "kernelspec": {
      "name": "python3",
      "display_name": "Python 3"
    },
    "language_info": {
      "name": "python"
    }
  },
  "cells": [
    {
      "cell_type": "markdown",
      "source": [
        "# Problem Statement\n",
        "Write a program which prompts the user for an adjective, then a noun, then a verb, and then prints a fun sentence with those words!\n",
        "\n",
        "Mad Libs is a word game where players are prompted for one word at a time, and the words are eventually filled into the blanks of a word template to make an entertaining story! We've provided you with the beginning of a sentence (the SENTENCE_START constant) which will end in a user-inputted adjective, noun, and then verb.\n",
        "\n",
        "Here's a sample run (user input is in bold italics):\n",
        "\n",
        "Please type an adjective and press enter. tiny\n",
        "\n",
        "Please type a noun and press enter. plant\n",
        "\n",
        "Please type a verb and press enter. fly\n",
        "\n",
        "Code in Place is fun. I learned to program and used Python to make my tiny plant fly!"
      ],
      "metadata": {
        "id": "SulHdv6TC_QN"
      }
    },
    {
      "cell_type": "code",
      "source": [
        "def main():\n",
        "    # Prompt the user for words\n",
        "    adjective = input(\"Please type an adjective and press enter: \")\n",
        "    noun = input(\"Please type a noun and press enter: \")\n",
        "    verb = input(\"Please type a verb and press enter: \")\n",
        "\n",
        "    # Construct and print the sentence\n",
        "    print(f\"Code in Place is fun. I learned to program and used Python to make my {adjective} {noun} {verb}!\")\n",
        "\n",
        "if __name__ == '__main__':\n",
        "    main()\n"
      ],
      "metadata": {
        "colab": {
          "base_uri": "https://localhost:8080/"
        },
        "id": "rrQo8jqMDB_M",
        "outputId": "e4c660cd-d495-4c51-bede-2991c40943df"
      },
      "execution_count": 1,
      "outputs": [
        {
          "output_type": "stream",
          "name": "stdout",
          "text": [
            "Please type an adjective and press enter: tiny\n",
            "Please type a noun and press enter: plant\n",
            "Please type a verb and press enter: fly\n",
            "Code in Place is fun. I learned to program and used Python to make my tiny plant fly!\n"
          ]
        }
      ]
    }
  ]
}
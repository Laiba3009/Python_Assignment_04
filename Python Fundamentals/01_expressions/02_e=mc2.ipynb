{
  "nbformat": 4,
  "nbformat_minor": 0,
  "metadata": {
    "colab": {
      "provenance": []
    },
    "kernelspec": {
      "name": "python3",
      "display_name": "Python 3"
    },
    "language_info": {
      "name": "python"
    }
  },
  "cells": [
    {
      "cell_type": "markdown",
      "source": [
        "# Problem Statement\n",
        "Write a program that continually reads in mass from the user and then outputs the equivalent energy using Einstein's mass-energy equivalence formula (E stands for energy, m stands for mass, and C is the speed of light:\n",
        "\n",
        "E = m * c**2\n",
        "\n",
        "Almost 100 years ago, Albert Einstein famously discovered that mass and energy are interchangeable and are related by the above equation. You should ask the user for mass (m) in kilograms and use a constant value for the speed of light -- C = 299792458 m/s.\n",
        "\n",
        "Here's a sample run of the program (user input is in bold italics):\n",
        "\n",
        "Enter kilos of mass: 100\n",
        "\n",
        "e = m * C^2...\n",
        "\n",
        "m = 100.0 kg\n",
        "\n",
        "C = 299792458 m/s\n",
        "\n",
        "8.987551787368176e+18 joules of energy!"
      ],
      "metadata": {
        "id": "z62aygOwdDWn"
      }
    },
    {
      "cell_type": "markdown",
      "source": [],
      "metadata": {
        "id": "o1jgDhyqdBt4"
      }
    },
    {
      "cell_type": "code",
      "execution_count": 2,
      "metadata": {
        "colab": {
          "base_uri": "https://localhost:8080/"
        },
        "id": "BouwGpM-cq_U",
        "outputId": "8244027f-22f2-4f5c-ba01-42c3a079c8f5"
      },
      "outputs": [
        {
          "output_type": "stream",
          "name": "stdout",
          "text": [
            "Enter kilos of mass: 100\n",
            "\n",
            "e = m * C^2...\n",
            "\n",
            "m = 100.0 kg\n",
            "C = 299792458 m/s\n",
            "\n",
            "8.987551787368176e+18 joules of energy!\n"
          ]
        }
      ],
      "source": [
        "def main():\n",
        "    # Define the speed of light constant\n",
        "    C = 299792458  # m/s\n",
        "\n",
        "    # Prompt the user for mass\n",
        "    mass = float(input(\"Enter kilos of mass: \"))\n",
        "\n",
        "    # Calculate energy using Einstein's equation\n",
        "    energy = mass * C**2\n",
        "\n",
        "    # Print the results\n",
        "    print(\"\\ne = m * C^2...\\n\")\n",
        "    print(f\"m = {mass} kg\")\n",
        "    print(f\"C = {C} m/s\\n\")\n",
        "    print(f\"{energy} joules of energy!\")\n",
        "\n",
        "if __name__ == '__main__':\n",
        "    main()\n"
      ]
    },
    {
      "cell_type": "markdown",
      "source": [],
      "metadata": {
        "id": "ksheWi-MdAm6"
      }
    }
  ]
}
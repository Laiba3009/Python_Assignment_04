{
  "nbformat": 4,
  "nbformat_minor": 0,
  "metadata": {
    "colab": {
      "provenance": []
    },
    "kernelspec": {
      "name": "python3",
      "display_name": "Python 3"
    },
    "language_info": {
      "name": "python"
    }
  },
  "cells": [
    {
      "cell_type": "markdown",
      "source": [],
      "metadata": {
        "id": "DviJH10nfv6i"
      }
    },
    {
      "cell_type": "markdown",
      "source": [
        "# Problem Statement\n",
        "Ask the user for two numbers, one at a time, and then print the result of dividing the first number by the second and also the remainder of the division.\n",
        "\n",
        "Here's a sample run of the program (user input is in bold italics):\n",
        "\n",
        "Please enter an integer to be divided: 5\n",
        "\n",
        "Please enter an integer to divide by: 3\n",
        "\n",
        "The result of this division is 1 with a remainder of 2"
      ],
      "metadata": {
        "id": "DbT0LrSpfyk6"
      }
    },
    {
      "cell_type": "code",
      "source": [
        "def main():\n",
        "    # Prompt the user for two integers\n",
        "    num1 = int(input(\"Please enter an integer to be divided: \"))\n",
        "    num2 = int(input(\"Please enter an integer to divide by: \"))\n",
        "\n",
        "    # Perform division and calculate remainder\n",
        "    quotient = num1 // num2  # Integer division\n",
        "    remainder = num1 % num2  # Modulus operator for remainder\n",
        "\n",
        "    # Print the result\n",
        "    print(f\"The result of this division is {quotient} with a remainder of {remainder}\")\n",
        "\n",
        "if __name__ == '__main__':\n",
        "    main()\n"
      ],
      "metadata": {
        "colab": {
          "base_uri": "https://localhost:8080/"
        },
        "id": "VbpxEHo3f9Rs",
        "outputId": "7a25be85-6734-4421-d1f4-ed61cb7b95c5"
      },
      "execution_count": null,
      "outputs": [
        {
          "output_type": "stream",
          "name": "stdout",
          "text": [
            "Please enter an integer to be divided: 5\n",
            "Please enter an integer to divide by: 3\n",
            "The result of this division is 1 with a remainder of 2\n"
          ]
        }
      ]
    }
  ]
}
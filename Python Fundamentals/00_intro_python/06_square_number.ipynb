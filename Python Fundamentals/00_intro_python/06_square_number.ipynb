{
  "nbformat": 4,
  "nbformat_minor": 0,
  "metadata": {
    "colab": {
      "provenance": []
    },
    "kernelspec": {
      "name": "python3",
      "display_name": "Python 3"
    },
    "language_info": {
      "name": "python"
    }
  },
  "cells": [
    {
      "cell_type": "markdown",
      "source": [],
      "metadata": {
        "id": "h547ioyuZZar"
      }
    },
    {
      "cell_type": "markdown",
      "source": [
        "# Problem Statement\n",
        "Ask the user for a number and print its square (the product of the number times itself).\n",
        "\n",
        "Here's a sample run of the program (user input is in bold italics):\n",
        "\n",
        "Type a number to see its square: 4\n",
        "\n",
        "4.0 squared is 16.0"
      ],
      "metadata": {
        "id": "Qt_6DW-HZbJZ"
      }
    },
    {
      "cell_type": "code",
      "source": [
        "def main():\n",
        "    # Prompting the user for a number\n",
        "    number = float(input(\"Type a number to see its square: \"))\n",
        "\n",
        "    # Calculating the square\n",
        "    square = number * number\n",
        "\n",
        "    # Printing the result\n",
        "    print(f\"{number} squared is {square}\")\n",
        "\n",
        "\n",
        "if __name__ == '__main__':\n",
        "    main()\n"
      ],
      "metadata": {
        "colab": {
          "base_uri": "https://localhost:8080/"
        },
        "id": "X0ildmx8ZfPe",
        "outputId": "9d8a3e93-154a-480c-845f-12be0bd0e116"
      },
      "execution_count": 1,
      "outputs": [
        {
          "output_type": "stream",
          "name": "stdout",
          "text": [
            "Type a number to see its square: 4\n",
            "4.0 squared is 16.0\n"
          ]
        }
      ]
    }
  ]
}
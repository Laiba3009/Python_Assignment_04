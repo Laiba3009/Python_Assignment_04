{
  "nbformat": 4,
  "nbformat_minor": 0,
  "metadata": {
    "colab": {
      "provenance": []
    },
    "kernelspec": {
      "name": "python3",
      "display_name": "Python 3"
    },
    "language_info": {
      "name": "python"
    }
  },
  "cells": [
    {
      "cell_type": "markdown",
      "source": [],
      "metadata": {
        "id": "YuPYhm10YeZ0"
      }
    },
    {
      "cell_type": "markdown",
      "source": [
        "# Introduction to Python 🐍\n",
        " Python is a high-level interpreted programming language known for its simplicity and readability. It is widely used in web development data science artificial intelligence automation and more\n",
        "\n",
        "#Features of Python:\n",
        "Easy to Learn & Use  Python has a simple syntax similar to English.\n",
        "\n",
        "Interpreted Language  No need for compilation; Python runs directly.\n",
        "\n",
        "Dynamically Typed  You don't need to declare variable types.\n",
        "\n",
        "Object-Oriented & Functional  Supports multiple programming paradigms.\n",
        "\n",
        "Large Community & Libraries  Huge support and extensive libraries.\n",
        "\n"
      ],
      "metadata": {
        "id": "FeIXNcgtYgpA"
      }
    },
    {
      "cell_type": "code",
      "source": [
        "def main():\n",
        "    # Prompt the user to enter the first number\n",
        "    num1 = int(input(\"Enter the first number: \"))\n",
        "\n",
        "    # Prompt the user to enter the second number\n",
        "    num2 = int(input(\"Enter the second number: \"))\n",
        "\n",
        "    # Calculate the sum\n",
        "    total = num1 + num2\n",
        "\n",
        "    # Print the total sum\n",
        "    print(f\"The sum of {num1} and {num2} is: {total}\")\n",
        "\n",
        "# This provided line is required at the end of\n",
        "# the Python file to call the main() function.\n",
        "if __name__ == '__main__':\n",
        "    main()\n"
      ],
      "metadata": {
        "colab": {
          "base_uri": "https://localhost:8080/"
        },
        "id": "h6yZTnnwZT5p",
        "outputId": "97921457-fb32-4763-e5c3-5634b070252f"
      },
      "execution_count": null,
      "outputs": [
        {
          "output_type": "stream",
          "name": "stdout",
          "text": [
            "Enter the first number: 5\n",
            "Enter the second number: 2\n",
            "The sum of 5 and 2 is: 7\n"
          ]
        }
      ]
    },
    {
      "cell_type": "code",
      "source": [
        "!find Python_Assignment_04 -name \"01_add_two_numbers.ipynb\"\n"
      ],
      "metadata": {
        "id": "muRe7aN9oDab"
      },
      "execution_count": null,
      "outputs": []
    },
    {
      "cell_type": "code",
      "source": [
        "!find Python_Assignment_04 -name \"01_add_two_numbers.ipynb\"\n",
        "\n"
      ],
      "metadata": {
        "id": "Qw9gwS8Fnxsq"
      },
      "execution_count": null,
      "outputs": []
    },
    {
      "cell_type": "code",
      "source": [
        "!ls\n"
      ],
      "metadata": {
        "colab": {
          "base_uri": "https://localhost:8080/"
        },
        "id": "oaql243InPVL",
        "outputId": "7f87ced1-3d5c-401e-bd6b-23c3d0021d76"
      },
      "execution_count": null,
      "outputs": [
        {
          "output_type": "stream",
          "name": "stdout",
          "text": [
            "Python_Assignment_04  sample_data\n"
          ]
        }
      ]
    },
    {
      "cell_type": "code",
      "source": [
        "!mv !mv Python_Assignment_04/01_add_two_numbers.ipynb Python_Assignment_04/Python\\ Fundamentals/00_intro_python/\n"
      ],
      "metadata": {
        "colab": {
          "base_uri": "https://localhost:8080/"
        },
        "id": "gL2e5S-MjcMl",
        "outputId": "14f0f594-8fc7-4a7d-a090-08dbcfe1f66e"
      },
      "execution_count": null,
      "outputs": [
        {
          "output_type": "stream",
          "name": "stdout",
          "text": [
            "mv: cannot stat '!mv': No such file or directory\n",
            "mv: cannot stat 'Python_Assignment_04/01_add_two_numbers.ipynb': No such file or directory\n"
          ]
        }
      ]
    },
    {
      "cell_type": "code",
      "source": [
        "!git clone https://github.com/Laiba3009/Python_Assignment_04.git\n"
      ],
      "metadata": {
        "colab": {
          "base_uri": "https://localhost:8080/"
        },
        "id": "G2yD3E4ZjAX9",
        "outputId": "2430d1df-facd-4268-f2c5-fb3e2f93f3fe"
      },
      "execution_count": null,
      "outputs": [
        {
          "output_type": "stream",
          "name": "stdout",
          "text": [
            "Cloning into 'Python_Assignment_04'...\n",
            "remote: Enumerating objects: 15, done.\u001b[K\n",
            "remote: Counting objects: 100% (15/15), done.\u001b[K\n",
            "remote: Compressing objects: 100% (11/11), done.\u001b[K\n",
            "remote: Total 15 (delta 3), reused 10 (delta 1), pack-reused 0 (from 0)\u001b[K\n",
            "Receiving objects: 100% (15/15), done.\n",
            "Resolving deltas: 100% (3/3), done.\n"
          ]
        }
      ]
    }
  ]
}
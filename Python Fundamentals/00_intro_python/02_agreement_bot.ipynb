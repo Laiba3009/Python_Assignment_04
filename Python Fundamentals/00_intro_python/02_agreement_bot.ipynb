{
  "nbformat": 4,
  "nbformat_minor": 0,
  "metadata": {
    "colab": {
      "provenance": []
    },
    "kernelspec": {
      "name": "python3",
      "display_name": "Python 3"
    },
    "language_info": {
      "name": "python"
    }
  },
  "cells": [
    {
      "cell_type": "markdown",
      "source": [],
      "metadata": {
        "id": "Zv4tptShKS66"
      }
    },
    {
      "cell_type": "markdown",
      "source": [
        "#Problem Statement\n",
        "Write a program which asks the user what their favorite animal is, and then always responds with \"My favorite animal is also ___!\" (the blank should be filled in with the user-inputted animal, of course).\n",
        "\n",
        "Here's a sample run of the program (user input is in bold italics - note the space between the prompt and the user input!):\n",
        "\n",
        "What's your favorite animal? cow\n",
        "\n",
        "My favorite animal is also cow"
      ],
      "metadata": {
        "id": "8eD1_q0rKUgM"
      }
    },
    {
      "cell_type": "markdown",
      "source": [
        "# **Solution**"
      ],
      "metadata": {
        "id": "58UymPgpKz2q"
      }
    },
    {
      "cell_type": "code",
      "source": [
        "def main():\n",
        "    favorite_animal = input(\"What's your favorite animal? \")\n",
        "    print(f\"My favorite animal is also {favorite_animal}!\")\n",
        "\n",
        "\n",
        "if __name__ == '__main__':\n",
        "    main()\n"
      ],
      "metadata": {
        "colab": {
          "base_uri": "https://localhost:8080/"
        },
        "id": "CbslH_joK7WE",
        "outputId": "167bad2c-8178-4cae-bf7c-3ddfb0e9f15d"
      },
      "execution_count": 1,
      "outputs": [
        {
          "output_type": "stream",
          "name": "stdout",
          "text": [
            "What's your favorite animal? cat\n",
            "My favorite animal is also cat!\n"
          ]
        }
      ]
    }
  ]
}
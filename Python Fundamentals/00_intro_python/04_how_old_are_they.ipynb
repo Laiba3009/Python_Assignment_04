{
  "nbformat": 4,
  "nbformat_minor": 0,
  "metadata": {
    "colab": {
      "provenance": []
    },
    "kernelspec": {
      "name": "python3",
      "display_name": "Python 3"
    },
    "language_info": {
      "name": "python"
    }
  },
  "cells": [
    {
      "cell_type": "markdown",
      "source": [],
      "metadata": {
        "id": "eRFhiJ39WX-p"
      }
    },
    {
      "cell_type": "markdown",
      "source": [
        "#Problem Statement\n",
        "Write a program to solve this age-related riddle!\n",
        "\n",
        "Anton, Beth, Chen, Drew, and Ethan are all friends. Their ages are as follows:\n",
        "\n",
        "Anton is 21 years old.\n",
        "\n",
        "Beth is 6 years older than Anton.\n",
        "\n",
        "Chen is 20 years older than Beth.\n",
        "\n",
        "Drew is as old as Chen's age plus Anton's age.\n",
        "\n",
        "Ethan is the same age as Chen.\n",
        "\n",
        "Your code should store each person's age to a variable and print their names and ages at the end. The autograder is sensitive to capitalization and punctuation, be careful! Your solution should look like this (the below numbers are made up -- your solution should have the correct values!)"
      ],
      "metadata": {
        "id": "plmXBawTWkCk"
      }
    },
    {
      "cell_type": "code",
      "source": [
        "def main():\n",
        "    # Storing ages in variables\n",
        "    anton_age = 21\n",
        "    beth_age = anton_age + 6\n",
        "    chen_age = beth_age + 20\n",
        "    drew_age = chen_age + anton_age\n",
        "    ethan_age = chen_age\n",
        "\n",
        "    # Printing names and ages\n",
        "    print(f\"Anton is {anton_age} years old.\")\n",
        "    print(f\"Beth is {beth_age} years old.\")\n",
        "    print(f\"Chen is {chen_age} years old.\")\n",
        "    print(f\"Drew is {drew_age} years old.\")\n",
        "    print(f\"Ethan is {ethan_age} years old.\")\n",
        "\n",
        "\n",
        "if __name__ == '__main__':\n",
        "    main()\n"
      ],
      "metadata": {
        "colab": {
          "base_uri": "https://localhost:8080/"
        },
        "id": "1DRJTRX6W8zU",
        "outputId": "5dc90bfb-c585-4a91-ffb1-39b5a2308522"
      },
      "execution_count": 1,
      "outputs": [
        {
          "output_type": "stream",
          "name": "stdout",
          "text": [
            "Anton is 21 years old.\n",
            "Beth is 27 years old.\n",
            "Chen is 47 years old.\n",
            "Drew is 68 years old.\n",
            "Ethan is 47 years old.\n"
          ]
        }
      ]
    }
  ]
}
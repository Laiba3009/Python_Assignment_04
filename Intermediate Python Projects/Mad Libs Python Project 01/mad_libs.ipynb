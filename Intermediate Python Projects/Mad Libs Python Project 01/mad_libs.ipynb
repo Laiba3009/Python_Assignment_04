{
  "nbformat": 4,
  "nbformat_minor": 0,
  "metadata": {
    "colab": {
      "provenance": []
    },
    "kernelspec": {
      "name": "python3",
      "display_name": "Python 3"
    },
    "language_info": {
      "name": "python"
    }
  },
  "cells": [
    {
      "cell_type": "code",
      "source": [
        "# Motivational Mad Libs Story - Based on Laiba's Journey\n",
        "\n",
        "# Taking user inputs for the blanks\n",
        "name = input(\"Enter your name: \")\n",
        "previous_field = input(\"What were you before (e.g., medical student, teacher, etc.)? \")\n",
        "starting_tool = input(\"What didn't you have at the start (e.g., laptop, internet)? \")\n",
        "challenge = input(\"One big challenge you faced: \")\n",
        "emotion = input(\"How did you stay strong (e.g., hopeful, determined)? \")\n",
        "important_person = input(\"Name someone who supported you (e.g., Governor Kamran Tessori): \")\n",
        "course_creator = input(\"Name of the person who designed the course: \")\n",
        "teacher_name = input(\"Name of a teacher who guided you: \")\n",
        "\n",
        "# Create the story using f-strings\n",
        "madlib = f\"\"\"\n",
        "My name is {name}, and I was once a {previous_field}. When I enrolled in this course,\n",
        "I didn't even have a {starting_tool}, and {challenge} felt like a huge barrier.\n",
        "But I never gave up. I stayed {emotion} and started everything from zero.\n",
        "\n",
        "I am truly thankful to {important_person} for opening such a powerful initiative for the youth.\n",
        "After that, I would like to thank {course_creator} who designed this incredible course,\n",
        "and {teacher_name} along with all the teachers who guided us with such passion and clarity.\n",
        "\n",
        "This journey taught me that no matter where you start, if your will is strong,\n",
        "you can reach anywhere. Never stop believing in yourself!\n",
        "\"\"\"\n",
        "\n",
        "# Display the motivational story\n",
        "print(\"\\n My Motivational Story \\n\")\n",
        "print(madlib)\n"
      ],
      "metadata": {
        "colab": {
          "base_uri": "https://localhost:8080/"
        },
        "id": "4GK8D6QJ-V1f",
        "outputId": "0dc918a6-aad9-4f4b-b87d-0c7a990e29da"
      },
      "execution_count": 1,
      "outputs": [
        {
          "output_type": "stream",
          "name": "stdout",
          "text": [
            "Enter your name: laiba\n",
            "What were you before (e.g., medical student, teacher, etc.)? medical student\n",
            "What didn't you have at the start (e.g., laptop, internet)? laptop\n",
            "One big challenge you faced: learning it\n",
            "How did you stay strong (e.g., hopeful, determined)? determind\n",
            "Name someone who supported you (e.g., Governor Kamran Tessori): governor kamran tessori \n",
            "Name of the person who designed the course: sir zia\n",
            "Name of a teacher who guided you: sir ,Bilal \n",
            "\n",
            "--- Your Motivational Story ---\n",
            "\n",
            "\n",
            "My name is laiba, and I was once a medical student. When I enrolled in this course,\n",
            "I didn't even have a laptop, and learning it felt like a huge barrier. \n",
            "But I never gave up. I stayed determind and started everything from zero.\n",
            "\n",
            "I am truly thankful to governor kamran tessori  for opening such a powerful initiative for the youth.\n",
            "After that, I would like to thank sir zia who designed this incredible course, \n",
            "and sir ,Bilal  along with all the teachers who guided us with such passion and clarity.\n",
            "\n",
            "This journey taught me that no matter where you start, if your will is strong, \n",
            "you can reach anywhere. Never stop believing in yourself!\n",
            "\n"
          ]
        }
      ]
    }
  ]
}
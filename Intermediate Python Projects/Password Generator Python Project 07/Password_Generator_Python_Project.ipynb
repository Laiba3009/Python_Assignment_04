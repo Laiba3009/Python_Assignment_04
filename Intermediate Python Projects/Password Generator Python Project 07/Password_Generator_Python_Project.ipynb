{
  "nbformat": 4,
  "nbformat_minor": 0,
  "metadata": {
    "colab": {
      "provenance": []
    },
    "kernelspec": {
      "name": "python3",
      "display_name": "Python 3"
    },
    "language_info": {
      "name": "python"
    }
  },
  "cells": [
    {
      "cell_type": "code",
      "execution_count": 1,
      "metadata": {
        "colab": {
          "base_uri": "https://localhost:8080/"
        },
        "id": "m6jpByhL83bK",
        "outputId": "3c28ed05-0905-4f1c-ed6d-273f1df2ac00"
      },
      "outputs": [
        {
          "output_type": "stream",
          "name": "stdout",
          "text": [
            "How many passwords do you want to generate? 6\n",
            "Enter the length of each password: 5\n",
            "\n",
            "Generated Passwords:\n",
            "!E6b9\n",
            "uo+Jq\n",
            "2RhGa\n",
            "!*,lC\n",
            "iV49%\n",
            "}rdj,\n"
          ]
        }
      ],
      "source": [
        "import random\n",
        "import string\n",
        "\n",
        "def generate_password(length):\n",
        "    # All characters to choose from\n",
        "    characters = string.ascii_letters + string.digits + string.punctuation\n",
        "    password = ''.join(random.choice(characters) for _ in range(length))\n",
        "    return password\n",
        "\n",
        "def main():\n",
        "    num_passwords = int(input(\"How many passwords do you want to generate? \"))\n",
        "    length = int(input(\"Enter the length of each password: \"))\n",
        "\n",
        "    print(\"\\nGenerated Passwords:\")\n",
        "    for _ in range(num_passwords):\n",
        "        print(generate_password(length))\n",
        "\n",
        "main()\n"
      ]
    }
  ]
}
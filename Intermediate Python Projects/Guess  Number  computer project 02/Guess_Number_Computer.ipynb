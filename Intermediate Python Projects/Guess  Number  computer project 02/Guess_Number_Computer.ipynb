{
  "nbformat": 4,
  "nbformat_minor": 0,
  "metadata": {
    "colab": {
      "provenance": []
    },
    "kernelspec": {
      "name": "python3",
      "display_name": "Python 3"
    },
    "language_info": {
      "name": "python"
    }
  },
  "cells": [
    {
      "cell_type": "code",
      "execution_count": 1,
      "metadata": {
        "id": "bMr2lkMv7MYE",
        "colab": {
          "base_uri": "https://localhost:8080/"
        },
        "outputId": "889029eb-bd9e-47e4-bb67-65d12d5e5f17"
      },
      "outputs": [
        {
          "output_type": "stream",
          "name": "stdout",
          "text": [
            "Welcome to the Guess the Number Game!\n",
            "Guess a number between 1 and 10: 4\n",
            "Too high! Try again.\n",
            "Guess a number between 1 and 10: 2\n",
            "Too low! Try again.\n",
            "Guess a number between 1 and 10: 3\n",
            "Congratulations! You guessed the number 3 in 3 attempts.\n"
          ]
        }
      ],
      "source": [
        "import random  # Importing random module to generate random numbers\n",
        "\n",
        "def guess_the_number():\n",
        "    print(\"Welcome to the Guess the Number Game!\")\n",
        "\n",
        "    # The computer selects a random number between 1 and 100\n",
        "    secret_number = random.randint(1, 10)\n",
        "\n",
        "    # Initial number of tries\n",
        "    attempts = 0\n",
        "\n",
        "    while True:\n",
        "        try:\n",
        "            # Get user input and convert to integer\n",
        "            guess = int(input(\"Guess a number between 1 and 10: \"))\n",
        "            attempts += 1  # Count the attempt\n",
        "\n",
        "            # Compare user guess with the secret number\n",
        "            if guess < secret_number:\n",
        "                print(\"Too low! Try again.\")\n",
        "            elif guess > secret_number:\n",
        "                print(\"Too high! Try again.\")\n",
        "            else:\n",
        "                print(f\"Congratulations! You guessed the number {secret_number} in {attempts} attempts.\")\n",
        "                break  # Exit the loop when guessed correctly\n",
        "\n",
        "        except ValueError:\n",
        "            print(\"Please enter a valid number!\")\n",
        "\n",
        "# Run the game\n",
        "guess_the_number()\n"
      ]
    }
  ]
}
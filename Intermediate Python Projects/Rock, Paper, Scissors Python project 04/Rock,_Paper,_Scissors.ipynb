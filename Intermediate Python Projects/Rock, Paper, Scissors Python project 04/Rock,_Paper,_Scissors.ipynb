{
  "nbformat": 4,
  "nbformat_minor": 0,
  "metadata": {
    "colab": {
      "provenance": []
    },
    "kernelspec": {
      "name": "python3",
      "display_name": "Python 3"
    },
    "language_info": {
      "name": "python"
    }
  },
  "cells": [
    {
      "cell_type": "code",
      "source": [
        "import random  # Importing random module to make the computer's choice random\n",
        "\n",
        "def play_game():\n",
        "    print(\"Welcome to Rock, Paper, Scissors!\")\n",
        "\n",
        "    # List of available choices for the game\n",
        "    options = ['rock', 'paper', 'scissors']\n",
        "\n",
        "    # Taking input from the user\n",
        "    user_choice = input(\"Enter your choice (rock, paper, or scissors): \").lower()\n",
        "\n",
        "    # Checking if user input is valid\n",
        "    if user_choice not in options:\n",
        "        print(\"Invalid choice! Please choose rock, paper, or scissors.\")\n",
        "        return  # Stop the game if invalid input\n",
        "\n",
        "    # Let the computer make a random choice\n",
        "    computer_choice = random.choice(options)\n",
        "    print(f\"Computer chose: {computer_choice}\")\n",
        "\n",
        "    # Decision-making: who wins?\n",
        "    if user_choice == computer_choice:\n",
        "        print(\"It's a tie!\")\n",
        "    elif (user_choice == 'rock' and computer_choice == 'scissors') or \\\n",
        "         (user_choice == 'paper' and computer_choice == 'rock') or \\\n",
        "         (user_choice == 'scissors' and computer_choice == 'paper'):\n",
        "        print(\"You win! 🎉\")\n",
        "    else:\n",
        "        print(\"You lose! 😢\")\n",
        "\n",
        "# Call the function to start the game\n",
        "play_game()\n"
      ],
      "metadata": {
        "colab": {
          "base_uri": "https://localhost:8080/"
        },
        "id": "rDRLB7ml1jKD",
        "outputId": "b07d3117-eb94-4c11-dc21-2281e22b5d0b"
      },
      "execution_count": 6,
      "outputs": [
        {
          "output_type": "stream",
          "name": "stdout",
          "text": [
            "Welcome to Rock, Paper, Scissors!\n",
            "Enter your choice (rock, paper, or scissors): scissors\n",
            "Computer chose: paper\n",
            "You win! 🎉\n"
          ]
        }
      ]
    }
  ]
}
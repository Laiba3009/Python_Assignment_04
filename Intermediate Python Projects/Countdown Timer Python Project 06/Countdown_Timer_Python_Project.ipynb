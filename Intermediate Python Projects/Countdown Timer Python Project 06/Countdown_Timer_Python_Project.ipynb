{
  "nbformat": 4,
  "nbformat_minor": 0,
  "metadata": {
    "colab": {
      "provenance": []
    },
    "kernelspec": {
      "name": "python3",
      "display_name": "Python 3"
    },
    "language_info": {
      "name": "python"
    }
  },
  "cells": [
    {
      "cell_type": "code",
      "execution_count": 1,
      "metadata": {
        "colab": {
          "base_uri": "https://localhost:8080/"
        },
        "id": "zBT8LTiJ67XG",
        "outputId": "83d513c9-1d9c-432d-914d-2de4467a30b8"
      },
      "outputs": [
        {
          "output_type": "stream",
          "name": "stdout",
          "text": [
            "Enter the time in seconds: 5\n",
            "Time left: 5 seconds\n",
            "Time left: 4 seconds\n",
            "Time left: 3 seconds\n",
            "Time left: 2 seconds\n",
            "Time left: 1 seconds\n",
            "Time's up! ⏰\n"
          ]
        }
      ],
      "source": [
        "import time  # Importing time module\n",
        "\n",
        "def countdown_timer():\n",
        "    # Ask user how many seconds to count down\n",
        "    seconds = int(input(\"Enter the time in seconds: \"))\n",
        "\n",
        "    # Loop from that number down to 0\n",
        "    while seconds > 0:\n",
        "        print(f\"Time left: {seconds} seconds\")\n",
        "        time.sleep(1)  # Wait 1 second\n",
        "        seconds -= 1\n",
        "\n",
        "    # When countdown finishes\n",
        "    print(\"Time's up! ⏰\")\n",
        "\n",
        "# Run the function\n",
        "countdown_timer()\n"
      ]
    }
  ]
}
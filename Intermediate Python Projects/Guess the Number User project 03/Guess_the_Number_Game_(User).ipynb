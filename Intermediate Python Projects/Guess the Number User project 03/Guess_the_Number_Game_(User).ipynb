{
  "nbformat": 4,
  "nbformat_minor": 0,
  "metadata": {
    "colab": {
      "provenance": []
    },
    "kernelspec": {
      "name": "python3",
      "display_name": "Python 3"
    },
    "language_info": {
      "name": "python"
    }
  },
  "cells": [
    {
      "cell_type": "code",
      "execution_count": 1,
      "metadata": {
        "colab": {
          "base_uri": "https://localhost:8080/"
        },
        "id": "NmLbwvR-GCVG",
        "outputId": "e0c45c52-d129-469b-9302-526618b42514"
      },
      "outputs": [
        {
          "output_type": "stream",
          "name": "stdout",
          "text": [
            "Think of a number between 1 and 100, and I will try to guess it!\n",
            "Is 88 too high (H), too low (L), or correct (C)? H\n",
            "Is 33 too high (H), too low (L), or correct (C)? L\n",
            "Is 36 too high (H), too low (L), or correct (C)? L\n",
            "Is 84 too high (H), too low (L), or correct (C)? H\n",
            "Is 56 too high (H), too low (L), or correct (C)? H\n",
            "Is 53 too high (H), too low (L), or correct (C)? H\n",
            "Is 50 too high (H), too low (L), or correct (C)? C\n",
            "Yay! I guessed your number in 7 attempts! 🎉\n"
          ]
        }
      ],
      "source": [
        "import random  # Import the random module\n",
        "\n",
        "def computer_guess(x):\n",
        "    low = 1\n",
        "    high = x\n",
        "    feedback = ''  # To store the user's feedback\n",
        "    attempts = 0   # Count how many guesses it takes\n",
        "\n",
        "    print(f\"Think of a number between 1 and {x}, and I will try to guess it!\")\n",
        "\n",
        "    while feedback != 'c':\n",
        "        if low != high:\n",
        "            guess = random.randint(low, high)  # Computer guesses a number in range\n",
        "        else:\n",
        "            guess = low  # Only one option left\n",
        "\n",
        "        feedback = input(f\"Is {guess} too high (H), too low (L), or correct (C)? \").lower()\n",
        "        attempts += 1\n",
        "\n",
        "        if feedback == 'h':\n",
        "            high = guess - 1  # Eliminate upper half\n",
        "        elif feedback == 'l':\n",
        "            low = guess + 1   # Eliminate lower half\n",
        "        elif feedback == 'c':\n",
        "            print(f\"Yay! I guessed your number in {attempts} attempts! 🎉\")\n",
        "        else:\n",
        "            print(\"Please enter H, L, or C only.\")\n",
        "\n",
        "# Run the game\n",
        "computer_guess(100)  # You can change the range here (e.g., 1–100)\n"
      ]
    }
  ]
}
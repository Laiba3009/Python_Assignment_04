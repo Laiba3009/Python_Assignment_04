{
  "nbformat": 4,
  "nbformat_minor": 0,
  "metadata": {
    "colab": {
      "provenance": [],
      "authorship_tag": "ABX9TyNxX8WchiJ5fkjtR9SIXcmu",
      "include_colab_link": true
    },
    "kernelspec": {
      "name": "python3",
      "display_name": "Python 3"
    },
    "language_info": {
      "name": "python"
    }
  },
  "cells": [
    {
      "cell_type": "markdown",
      "metadata": {
        "id": "view-in-github",
        "colab_type": "text"
      },
      "source": [
        "<a href=\"https://colab.research.google.com/github/Laiba3009/Python_Assignment_04/blob/main/01_add_two_numbers.ipynb\" target=\"_parent\"><img src=\"https://colab.research.google.com/assets/colab-badge.svg\" alt=\"Open In Colab\"/></a>"
      ]
    },
    {
      "cell_type": "markdown",
      "source": [],
      "metadata": {
        "id": "YuPYhm10YeZ0"
      }
    },
    {
      "cell_type": "markdown",
      "source": [
        "# Introduction to Python 🐍\n",
        " Python is a high-level interpreted programming language known for its simplicity and readability. It is widely used in web development data science artificial intelligence automation and more\n",
        "\n",
        "#Features of Python:\n",
        "Easy to Learn & Use  Python has a simple syntax similar to English.\n",
        "\n",
        "Interpreted Language  No need for compilation; Python runs directly.\n",
        "\n",
        "Dynamically Typed  You don't need to declare variable types.\n",
        "\n",
        "Object-Oriented & Functional  Supports multiple programming paradigms.\n",
        "\n",
        "Large Community & Libraries  Huge support and extensive libraries.\n",
        "\n"
      ],
      "metadata": {
        "id": "FeIXNcgtYgpA"
      }
    },
    {
      "cell_type": "code",
      "source": [
        "def main():\n",
        "    # Prompt the user to enter the first number\n",
        "    num1 = int(input(\"Enter the first number: \"))\n",
        "\n",
        "    # Prompt the user to enter the second number\n",
        "    num2 = int(input(\"Enter the second number: \"))\n",
        "\n",
        "    # Calculate the sum\n",
        "    total = num1 + num2\n",
        "\n",
        "    # Print the total sum\n",
        "    print(f\"The sum of {num1} and {num2} is: {total}\")\n",
        "\n",
        "# This provided line is required at the end of\n",
        "# the Python file to call the main() function.\n",
        "if __name__ == '__main__':\n",
        "    main()\n"
      ],
      "metadata": {
        "colab": {
          "base_uri": "https://localhost:8080/"
        },
        "id": "h6yZTnnwZT5p",
        "outputId": "97921457-fb32-4763-e5c3-5634b070252f"
      },
      "execution_count": 1,
      "outputs": [
        {
          "output_type": "stream",
          "name": "stdout",
          "text": [
            "Enter the first number: 5\n",
            "Enter the second number: 2\n",
            "The sum of 5 and 2 is: 7\n"
          ]
        }
      ]
    }
  ]
}